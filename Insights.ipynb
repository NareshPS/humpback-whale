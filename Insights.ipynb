{
 "cells": [
  {
   "cell_type": "code",
   "execution_count": 1,
   "metadata": {},
   "outputs": [],
   "source": [
    "\"\"\"It provides training insights using the history, and weight statistics generated during training.\n",
    "\"\"\"\n",
    "#Commandline arguments\n",
    "from argparse import ArgumentParser\n",
    "\n",
    "#Logging\n",
    "import logging\n",
    "\n",
    "#Load/Save objects from/to the disk\n",
    "from pickle import load as pickle_load\n",
    "\n",
    "#Plotting\n",
    "from matplotlib import pyplot as plt\n"
   ]
  },
  {
   "cell_type": "code",
   "execution_count": 20,
   "metadata": {},
   "outputs": [],
   "source": [
    "base_model, analysis_type, log_to_console = \"inceptionv3\", \"history\", False\n",
    "\n",
    "#Initialize logging\n",
    "logger = logging.getLogger(__name__)\n",
    "\n",
    "#History file\n",
    "history_file = base_model + \".history\"\n",
    "\n",
    "logger.info(\n",
    "        'Running with parameters base_model: %s analysis_type: %s log_to_console: %s',\n",
    "        base_model,\n",
    "        analysis_type,\n",
    "        log_to_console)\n",
    "\n",
    "#Placeholder objects\n",
    "training_history = None\n",
    "\n",
    "with open(history_file, 'rb') as handle:\n",
    "    training_history = pickle_load(handle)\n",
    "\n",
    "logger.info(\"Loaded history object: %s\", history_file)\n",
    "\n",
    "\n"
   ]
  },
  {
   "cell_type": "code",
   "execution_count": 57,
   "metadata": {},
   "outputs": [],
   "source": [
    "\n",
    "class History:\n",
    "    \"\"\"Support to analyze the training history to gain better insight.\n",
    "    \"\"\"\n",
    "\n",
    "    _acc_cols = set(['acc', 'val_acc'])\n",
    "    _loss_cols = set(['loss', 'val_loss'])\n",
    "\n",
    "    def __init__(self, history):\n",
    "        #History object must exist to plot accuracy.\n",
    "        if history is None:\n",
    "            raise ValueError(\"History object must exist.\")\n",
    "\n",
    "        self._history = history.history\n",
    "        \n",
    "    def accuracy(self, acc_cols = None):\n",
    "        \"\"\"It pulls the accuracy metrics for the input columns.\n",
    "        \n",
    "        Keyword Arguments:\n",
    "            cols {[string]} -- It is a list of column names. (default: {None})\n",
    "        \n",
    "        Raises:\n",
    "            ValueError -- It raises a ValueError for invalid column names.\n",
    "        \n",
    "        Returns:\n",
    "            ([], []) -- A tuple of metrics values and their names.\n",
    "        \"\"\"\n",
    "        if acc_cols is None:\n",
    "            acc_cols = self._acc_cols\n",
    "        else:\n",
    "            acc_cols = set(acc_cols)\n",
    "\n",
    "        #Validate the input metrics set\n",
    "        if not set(acc_cols).issubset(self._acc_cols):\n",
    "            raise ValueError(\n",
    "                    \"acc_cols: {} must contain valid values. Allowed values are: {}\".format(\n",
    "                            acc_cols,\n",
    "                            self._acc_cols))\n",
    "\n",
    "        return {col:self._history[col] for col in acc_cols}\n",
    "\n",
    "    def loss(self, loss_cols = None):\n",
    "        \"\"\"It pulls the loss metrics for the input columns.\n",
    "        \n",
    "        Keyword Arguments:\n",
    "            cols {[string]} -- It is a list of column names. (default: {None})\n",
    "        \n",
    "        Raises:\n",
    "            ValueError -- It raises a ValueError for invalid column names.\n",
    "        \n",
    "        Returns:\n",
    "            ([], []) -- A tuple of metrics values and their names.\n",
    "        \"\"\"\n",
    "        if loss_cols is None:\n",
    "            loss_cols = self._loss_cols\n",
    "        else:\n",
    "            loss_cols = set(loss_cols)\n",
    "\n",
    "        #Validate the input metrics set\n",
    "        if not set(loss_cols).issubset(self._loss_cols):\n",
    "            raise ValueError(\n",
    "                    \"loss_cols: {} must contain valid values. Allowed values are: {}\".format(\n",
    "                            loss_cols,\n",
    "                            self._loss_cols))\n",
    "        return {col:self._history[col] for col in loss_cols}"
   ]
  },
  {
   "cell_type": "code",
   "execution_count": 58,
   "metadata": {},
   "outputs": [],
   "source": [
    "history = History(training_history)"
   ]
  },
  {
   "cell_type": "code",
   "execution_count": 59,
   "metadata": {},
   "outputs": [],
   "source": [
    "losses = history.loss()"
   ]
  },
  {
   "cell_type": "code",
   "execution_count": 92,
   "metadata": {},
   "outputs": [
    {
     "name": "stdout",
     "output_type": "stream",
     "text": [
      "loss\n",
      "val_loss\n"
     ]
    },
    {
     "data": {
      "image/png": "[encoded data removed]",
      "text/plain": [
       "<Figure size 360x360 with 1 Axes>"
      ]
     },
     "metadata": {},
     "output_type": "display_data"
    }
   ],
   "source": [
    "figure, axes = plt.subplots(figsize = (5, 5))\n",
    "\n",
    "for key, value in losses.items():\n",
    "    print(key)\n",
    "    axes.plot(value, label = key)"
   ]
  },
  {
   "cell_type": "code",
   "execution_count": 88,
   "metadata": {},
   "outputs": [],
   "source": []
  },
  {
   "cell_type": "code",
   "execution_count": null,
   "metadata": {},
   "outputs": [],
   "source": []
  },
  {
   "cell_type": "code",
   "execution_count": null,
   "metadata": {},
   "outputs": [],
   "source": []
  }
 ],
 "metadata": {
  "kernelspec": {
   "display_name": "Python 3",
   "language": "python",
   "name": "python3"
  },
  "language_info": {
   "codemirror_mode": {
    "name": "ipython",
    "version": 3
   },
   "file_extension": ".py",
   "mimetype": "text/x-python",
   "name": "python",
   "nbconvert_exporter": "python",
   "pygments_lexer": "ipython3",
   "version": "3.6.6"
  }
 },
 "nbformat": 4,
 "nbformat_minor": 2
}
