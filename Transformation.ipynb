{
 "cells": [
  {
   "cell_type": "code",
   "execution_count": 1,
   "metadata": {},
   "outputs": [
    {
     "name": "stderr",
     "output_type": "stream",
     "text": [
      "Using TensorFlow backend.\n"
     ]
    }
   ],
   "source": [
    "from keras.preprocessing.image import ImageDataGenerator"
   ]
  },
  {
   "cell_type": "code",
   "execution_count": 21,
   "metadata": {},
   "outputs": [],
   "source": [
    "datagen = ImageDataGenerator(samplewise_center = True)"
   ]
  },
  {
   "cell_type": "code",
   "execution_count": 22,
   "metadata": {},
   "outputs": [
    {
     "name": "stderr",
     "output_type": "stream",
     "text": [
      "C:\\Users\\nares\\Anaconda3\\lib\\site-packages\\keras_preprocessing\\image.py:2059: SettingWithCopyWarning: \n",
      "A value is trying to be set on a copy of a slice from a DataFrame.\n",
      "Try using .loc[row_indexer,col_indexer] = value instead\n",
      "\n",
      "See the caveats in the documentation: http://pandas.pydata.org/pandas-docs/stable/indexing.html#indexing-view-versus-copy\n",
      "  self.df[x_col] = self.df[x_col].astype(str)\n"
     ]
    },
    {
     "name": "stdout",
     "output_type": "stream",
     "text": [
      "Found 25361 images.\n",
      "[[[[-59.299797   -32.299797   -15.299797  ]\n",
      "   [-64.2998     -39.299797   -19.299797  ]\n",
      "   [-51.299797   -26.299797    -4.299797  ]\n",
      "   ...\n",
      "   [-11.299797    14.700203    39.700203  ]\n",
      "   [ 10.700203    39.700203    71.7002    ]\n",
      "   [  8.700203    34.700203    67.7002    ]]\n",
      "\n",
      "  [[-18.299797     7.700203    32.700203  ]\n",
      "   [-10.299797    13.700203    37.700203  ]\n",
      "   [-22.299797    -0.29979706  23.700203  ]\n",
      "   ...\n",
      "   [-73.2998     -48.299797   -26.299797  ]\n",
      "   [-64.2998     -38.299797   -21.299797  ]\n",
      "   [-56.299797   -30.299797   -13.299797  ]]\n",
      "\n",
      "  [[ 11.700203    38.700203    67.7002    ]\n",
      "   [ 26.700203    52.700203    79.7002    ]\n",
      "   [ 30.700203    54.700203    80.7002    ]\n",
      "   ...\n",
      "   [-30.299797    -6.299797    21.700203  ]\n",
      "   [-30.299797    -6.299797    21.700203  ]\n",
      "   [-35.299797   -11.299797    16.700203  ]]\n",
      "\n",
      "  ...\n",
      "\n",
      "  [[-32.299797   -10.299797    13.700203  ]\n",
      "   [-35.299797   -13.299797     9.700203  ]\n",
      "   [-38.299797   -16.299797     6.700203  ]\n",
      "   ...\n",
      "   [ 66.7002      73.7002      83.7002    ]\n",
      "   [ 58.700203    62.700203    73.7002    ]\n",
      "   [ 38.700203    38.700203    50.700203  ]]\n",
      "\n",
      "  [[-19.299797     0.70020294  24.700203  ]\n",
      "   [-13.299797     7.700203    28.700203  ]\n",
      "   [-12.299797     8.700203    29.700203  ]\n",
      "   ...\n",
      "   [-60.299797   -48.299797   -36.299797  ]\n",
      "   [-61.299797   -47.299797   -38.299797  ]\n",
      "   [-55.299797   -43.299797   -31.299797  ]]\n",
      "\n",
      "  [[-58.299797   -41.299797   -25.299797  ]\n",
      "   [-67.2998     -50.299797   -34.299797  ]\n",
      "   [-65.2998     -47.299797   -33.299797  ]\n",
      "   ...\n",
      "   [-65.2998     -48.299797   -30.299797  ]\n",
      "   [-69.2998     -52.299797   -42.299797  ]\n",
      "   [-63.299797   -49.299797   -38.299797  ]]]]\n",
      "-2.2836282e-06\n"
     ]
    }
   ],
   "source": [
    "from common import constants\n",
    "from pandas import read_csv\n",
    "\n",
    "import numpy as np\n",
    "\n",
    "train_tuples_df = read_csv(constants.DATASET_MAPPINGS['train_tuples'])\n",
    "\n",
    "dataset = 'train'\n",
    "train_set_loc = constants.DATASET_MAPPINGS[dataset]\n",
    "input_shape = constants.INPUT_SHAPE\n",
    "batch_size = 1\n",
    "\n",
    "iterator = datagen.flow_from_dataframe(\n",
    "                train_tuples_df.loc[:, ['Anchor', 'Label']],\n",
    "                train_set_loc,\n",
    "                x_col='Anchor',\n",
    "                y_col='Label', \n",
    "                has_ext=True,\n",
    "                target_size = input_shape[:2],\n",
    "                batch_size=batch_size,\n",
    "                shuffle=False,\n",
    "                class_mode = None)\n",
    "\n",
    "image = next(iterator)\n",
    "print(image)\n",
    "print(np.mean(image))\n"
   ]
  },
  {
   "cell_type": "code",
   "execution_count": null,
   "metadata": {},
   "outputs": [],
   "source": [
    "datagen = ImageDataGenerator(\n",
    "                    train_set_loc, \n",
    "                    train_tuples_df, \n",
    "                    input_shape[:2], \n",
    "                    batch_size,\n",
    "                    validation_split = validation_split,\n",
    "                    cache_size = cache_size)"
   ]
  }
 ],
 "metadata": {
  "kernelspec": {
   "display_name": "Python 3",
   "language": "python",
   "name": "python3"
  },
  "language_info": {
   "codemirror_mode": {
    "name": "ipython",
    "version": 3
   },
   "file_extension": ".py",
   "mimetype": "text/x-python",
   "name": "python",
   "nbconvert_exporter": "python",
   "pygments_lexer": "ipython3",
   "version": "3.6.6"
  }
 },
 "nbformat": 4,
 "nbformat_minor": 2
}
