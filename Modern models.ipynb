{
 "cells": [
  {
   "cell_type": "code",
   "execution_count": null,
   "metadata": {},
   "outputs": [],
   "source": [
    "#Keras support\n",
    "from keras.preprocessing.image import ImageDataGenerator\n",
    "from keras.applications.densenet import DenseNet121 as DenseNet\n",
    "from keras.optimizers import SGD\n",
    "from keras.layers import Input, Dense\n",
    "from keras.models import Model\n",
    "\n",
    "from pandas import read_csv\n",
    "\n",
    "from common import constants"
   ]
  },
  {
   "cell_type": "code",
   "execution_count": null,
   "metadata": {},
   "outputs": [],
   "source": [
    "label_df = read_csv(constants.PROCESSED_DATASET_MAPPINGS['labels'])\n",
    "n_classes = len(set(label_df[\"Id\"]))\n",
    "\n",
    "print(\"Number of classes: {}\".format(n_classes))"
   ]
  },
  {
   "cell_type": "code",
   "execution_count": null,
   "metadata": {
    "scrolled": true
   },
   "outputs": [],
   "source": [
    "input_shape = (224, 224)\n",
    "batch_size = 32\n",
    "\n",
    "datagen = ImageDataGenerator(\n",
    "                    rescale=1./255,\n",
    "                    shear_range=0.2,\n",
    "                    zoom_range=0.2,\n",
    "                    horizontal_flip=True,\n",
    "                    validation_split = 0.2)\n",
    "\n",
    "train_gen = datagen.flow_from_dataframe(\n",
    "                    label_df,\n",
    "                    constants.PROCESSED_DATASET_MAPPINGS['train'],\n",
    "                    x_col = 'Image',\n",
    "                    y_col = 'Id',\n",
    "                    target_size=input_shape,\n",
    "                    batch_size=batch_size,\n",
    "                    class_mode='categorical',\n",
    "                    subset = 'training')\n",
    "\n",
    "val_gen = datagen.flow_from_dataframe(\n",
    "                    label_df,\n",
    "                    constants.PROCESSED_DATASET_MAPPINGS['train'],\n",
    "                    x_col = 'Image',\n",
    "                    y_col = 'Id',\n",
    "                    target_size=input_shape,\n",
    "                    batch_size=batch_size,\n",
    "                    class_mode='categorical',\n",
    "                    subset='validation')"
   ]
  },
  {
   "cell_type": "code",
   "execution_count": null,
   "metadata": {},
   "outputs": [],
   "source": [
    "inputs = Input(shape = (224, 224, 3))\n",
    "X = DenseNet(weights = 'imagenet')(inputs)\n",
    "X = Dense(n_classes, activation = 'softmax')(X)\n",
    "\n",
    "model = Model(inputs = [inputs], outputs = [X])\n",
    "model.compile(loss='categorical_crossentropy', optimizer='adam', metrics = ['accuracy'])\n",
    "model.summary()\n"
   ]
  },
  {
   "cell_type": "code",
   "execution_count": null,
   "metadata": {},
   "outputs": [],
   "source": [
    "model.fit_generator(\n",
    "    train_gen,\n",
    "    steps_per_epoch=630,\n",
    "    validation_data=val_gen,\n",
    "    validation_steps = 150,\n",
    "    epochs=50)"
   ]
  },
  {
   "cell_type": "code",
   "execution_count": 7,
   "metadata": {},
   "outputs": [
    {
     "name": "stdout",
     "output_type": "stream",
     "text": [
      "dict_keys([])\n"
     ]
    }
   ],
   "source": [
    "from cachetools import LRUCache\n",
    "\n",
    "cache = LRUCache(5)\n",
    "images = ['Naresh', 'Naresh', 'Hello', 'Follow']\n",
    "\n",
    "img_objs = {}\n",
    "candidate_images = set(images)\n",
    "for image in set(candidate_images):\n",
    "    #Get the image object for the current image from the cache.\n",
    "    #Add to the dictionary, if it is not None.\n",
    "    img_obj = cache.get(image)\n",
    "\n",
    "    if img_obj:\n",
    "        img_objs[image] = img_obj\n",
    "        \n",
    "for image in set(candidate_images):\n",
    "    #Get the image object for the current image from the cache.\n",
    "    #Add to the dictionary, if it is not None.\n",
    "    img_obj = cache.get(image)\n",
    "\n",
    "    if img_obj:\n",
    "        img_objs[image] = img_obj\n",
    "        \n",
    "print(img_objs.keys())"
   ]
  },
  {
   "cell_type": "code",
   "execution_count": null,
   "metadata": {},
   "outputs": [],
   "source": []
  }
 ],
 "metadata": {
  "kernelspec": {
   "display_name": "Python 3",
   "language": "python",
   "name": "python3"
  },
  "language_info": {
   "codemirror_mode": {
    "name": "ipython",
    "version": 3
   },
   "file_extension": ".py",
   "mimetype": "text/x-python",
   "name": "python",
   "nbconvert_exporter": "python",
   "pygments_lexer": "ipython3",
   "version": "3.6.6"
  }
 },
 "nbformat": 4,
 "nbformat_minor": 2
}
