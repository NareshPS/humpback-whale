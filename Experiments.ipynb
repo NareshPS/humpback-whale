{
 "cells": [
  {
   "cell_type": "code",
   "execution_count": 5,
   "metadata": {},
   "outputs": [
    {
     "name": "stdout",
     "output_type": "stream",
     "text": [
      "The autoreload extension is already loaded. To reload it, use:\n",
      "  %reload_ext autoreload\n"
     ]
    }
   ],
   "source": [
    "# coding: utf-8\n",
    "__author__ = 'ZFTurbo: https://kaggle.com/zfturbo'\n",
    "\n",
    "import cv2\n",
    "import numpy as np\n",
    "import pandas as pd\n",
    "import random\n",
    "import pickle\n",
    "from PIL import Image\n",
    "from os.path import isfile\n",
    "from IPython.display import Image, display\n",
    "import matplotlib.pyplot as plt\n",
    "from pathlib import Path\n",
    "\n",
    "%matplotlib inline\n",
    "\n",
    "%load_ext autoreload\n",
    "%autoreload 2"
   ]
  },
  {
   "cell_type": "code",
   "execution_count": 6,
   "metadata": {},
   "outputs": [],
   "source": [
    "consolidated_result = None\n",
    "\n",
    "with Path('consolidated_result.dmp').open(mode = 'rb') as handle:\n",
    "    consolidated_result = pickle.load(handle)"
   ]
  },
  {
   "cell_type": "code",
   "execution_count": 14,
   "metadata": {},
   "outputs": [
    {
     "name": "stdout",
     "output_type": "stream",
     "text": [
      "dict_keys([(0, 'loss'), (0, 'acc'), (1, 'loss'), (1, 'acc'), (0, 'accuracy')])\n"
     ]
    },
    {
     "data": {
      "text/plain": [
       "[<matplotlib.lines.Line2D at 0x7f5e92fc6ac8>]"
      ]
     },
     "execution_count": 14,
     "metadata": {},
     "output_type": "execute_result"
    },
    {
     "data": {
      "image/png": "[encoded data removed]",
      "text/plain": [
       "<Figure size 432x288 with 1 Axes>"
      ]
     },
     "metadata": {
      "needs_background": "light"
     },
     "output_type": "display_data"
    },
    {
     "data": {
      "image/png": "[encoded data removed]",
      "text/plain": [
       "<Figure size 432x288 with 1 Axes>"
      ]
     },
     "metadata": {
      "needs_background": "light"
     },
     "output_type": "display_data"
    }
   ],
   "source": [
    "print(consolidated_result.keys())\n",
    "\n",
    "plt.plot(consolidated_result[0, 'acc'])\n",
    "\n",
    "plt.figure()\n",
    "plt.plot(consolidated_result[1, 'acc'])"
   ]
  },
  {
   "cell_type": "code",
   "execution_count": 5,
   "metadata": {},
   "outputs": [],
   "source": [
    "from client.dropbox import DropboxConnection\n",
    "from enum import Enum\n",
    "\n",
    "#Input source enums\n",
    "class InputSourceOptions(Enum):\n",
    "  REBALANCED_DATA = 0\n",
    "  DOWNLOAD = 1\n",
    "  NONE = 2\n",
    "  \n",
    "class ModelOptions(Enum):\n",
    "  GENERATE = 0\n",
    "  DOWNLOAD = 1\n",
    "  NONE = 2\n",
    "  \n",
    "class PredictionSourceOptions(Enum):\n",
    "  GENERATE = 0\n",
    "  DOWNLOAD = 1\n",
    "  NONE = 2\n",
    "\n",
    "#Global parameters\n",
    "remote_store = 'densenet_trial'\n",
    "input_data_file = 'input_data.batch.0.epoch.0.csv'\n",
    "rebalanced_input_data_file = 'rebalanced_input_data_512.csv'\n",
    "prediction_input_data_file = 'prediction_input_data.batch.0.epoch.0.csv'\n",
    "augmented_input_data_file = 'augmented_input_data_512.csv'\n",
    "model_file = 'siamese_network_mobilenet.batch.0.epoch.0.h5'\n",
    "input_data_source = InputSourceOptions.REBALANCED_DATA\n",
    "model_option = ModelOptions.GENERATE\n",
    "prediction_option = PredictionSourceOptions.GENERATE\n",
    "\n",
    "#Dropbox connection parameters\n",
    "params = DropboxConnection.Parameters('RJNtqAmFFEgAAAAAAAG0Gtn39Pq66F8FFa9248CmepaGrLpvEcEo3XVeX3AiYmPH', remote_store)\n",
    "\n",
    "#Dropbox client\n",
    "client = DropboxConnection(params)"
   ]
  },
  {
   "cell_type": "code",
   "execution_count": 7,
   "metadata": {},
   "outputs": [
    {
     "name": "stdout",
     "output_type": "stream",
     "text": [
      "The autoreload extension is already loaded. To reload it, use:\n",
      "  %reload_ext autoreload\n"
     ]
    },
    {
     "name": "stderr",
     "output_type": "stream",
     "text": [
      "Downloading: /run_data/densenet_trial/augmented_input_data_512.csv: 100%|██████████| 22916688/22916688 [00:04<00:00, 6166509.09it/s]\n",
      "Downloading: /run_data/densenet_trial/rebalanced_input_data_512.csv: 100%|██████████| 4433574/4433574 [00:00<00:00, 6037034.67it/s]\n"
     ]
    },
    {
     "name": "stdout",
     "output_type": "stream",
     "text": [
      "Generating input tuples: 100%|██████████████| 723/723 [00:00<00:00, 3841.05it/s]\n",
      "\n",
      "                                    Tuple Generation Summary\n",
      "                                    ====================\n",
      "                                    Input size: 2000\n",
      "                                    Output size: 16828\n",
      "                                    Expected output size: 20000\n",
      "                                    Error: 3172\n",
      "                                    \n"
     ]
    }
   ],
   "source": [
    "%load_ext autoreload\n",
    "%autoreload 2\n",
    "\n",
    "from common.pandas import *\n",
    "\n",
    "if prediction_option == PredictionSourceOptions.GENERATE:\n",
    "  #Download augmented data\n",
    "  client.download(augmented_input_data_file)\n",
    "  \n",
    "  #Download rebalanced data\n",
    "  client.download(rebalanced_input_data_file)\n",
    "  \n",
    "  #Load data files\n",
    "  augmented_input_data = csv_to_dataframe(augmented_input_data_file)\n",
    "  rebalanced_input_data = csv_to_dataframe(rebalanced_input_data_file)\n",
    "  \n",
    "  #Pull the images in the rebalanced data\n",
    "  images_in_rebalanced_data = unique_items(rebalanced_input_data, 'Image')\n",
    "  \n",
    "  #Prediction data frame\n",
    "  untrained_input_data = remove(augmented_input_data, 'Image', images_in_rebalanced_data)\n",
    "  untrained_input_data.to_csv('untrained_input_data.csv')\n",
    "  \n",
    "  #Initialize siamese network tuples\n",
    "  !python siamese_input_tuples.py -i untrained_input_data.csv -o prediction_input_data.batch.0.epoch.0.csv -c Image Id --output_cols Anchor Sample Label -s 10 -n 2000 -f\n",
    "  \n",
    "  #Upload the prediction data data\n",
    "  client.upload(prediction_input_data_file)\n",
    "elif prediction_option == PredictionSourceOptions.DOWNLOAD:\n",
    "  #Download prediction data\n",
    "  client.download(prediction_input_data_file)"
   ]
  },
  {
   "cell_type": "code",
   "execution_count": 4,
   "metadata": {},
   "outputs": [
    {
     "name": "stdout",
     "output_type": "stream",
     "text": [
      "^C40MiB [>                                                     ]  3% ETA 0:09:49\n",
      "\n",
      "\n",
      "\n",
      "zip error: Interrupted (aborting)\n"
     ]
    }
   ],
   "source": [
    "!zip -qr - train | pv -bep -s $(du -bs train | awk '{print $1}') > file.zip"
   ]
  },
  {
   "cell_type": "code",
   "execution_count": null,
   "metadata": {},
   "outputs": [],
   "source": []
  }
 ],
 "metadata": {
  "kernelspec": {
   "display_name": "Python 3",
   "language": "python",
   "name": "python3"
  },
  "language_info": {
   "codemirror_mode": {
    "name": "ipython",
    "version": 3
   },
   "file_extension": ".py",
   "mimetype": "text/x-python",
   "name": "python",
   "nbconvert_exporter": "python",
   "pygments_lexer": "ipython3",
   "version": "3.6.8"
  }
 },
 "nbformat": 4,
 "nbformat_minor": 2
}
