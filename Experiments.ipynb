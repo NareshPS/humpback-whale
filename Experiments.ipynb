{
 "cells": [
  {
   "cell_type": "code",
   "execution_count": 1,
   "metadata": {},
   "outputs": [],
   "source": [
    "%load_ext autoreload\n",
    "%autoreload 2"
   ]
  },
  {
   "cell_type": "code",
   "execution_count": 38,
   "metadata": {
    "scrolled": true
   },
   "outputs": [],
   "source": [
    "#Http request\n",
    "from requests import post as http_post\n",
    "\n",
    "#Path manipulations\n",
    "from pathlib import Path\n",
    "\n",
    "#Constants\n",
    "from common import constants\n",
    "\n",
    "#Dropbox\n",
    "from dropbox import Dropbox\n",
    "from dropbox.files import UploadSessionCursor as Dropbox_UploadSessionCursor\n",
    "from dropbox.files import CommitInfo as Dropbox_CommitInfo\n",
    "\n",
    "#Progress bar\n",
    "from tqdm import tqdm\n",
    "\n",
    "dropbox = Dropbox('RJNtqAmFFEgAAAAAAAG0Gtn39Pq66F8FFa9248CmepaGrLpvEcEo3XVeX3AiYmPH')\n",
    "\n",
    "constants.DROPBOX_CHUNK_SIZE = 2000\n",
    "\n",
    "def _upload(dropbox_dir, filename):\n",
    "    with open(filename, 'rb') as handle:\n",
    "        #Target path\n",
    "        dropbox_path = (Path(dropbox_dir) / filename).as_posix()\n",
    "\n",
    "        #File size\n",
    "        upload_size = path.getsize(filename)\n",
    "\n",
    "        #Upload session\n",
    "        session = dropbox.files_upload_session_start(handle.read(constants.DROPBOX_CHUNK_SIZE))\n",
    "        cursor = Dropbox_UploadSessionCursor(session_id = session.session_id, offset = handle.tell())\n",
    "        commit = Dropbox_CommitInfo(path = dropbox_path)\n",
    "        \n",
    "        print(dropbox_path)\n",
    "\n",
    "        #Upload look\n",
    "        with tqdm(desc = 'Uploading file: {} size: {}'.format(dropbox_path, upload_size), total = upload_size) as pbar:\n",
    "            #Update the progress bar for the session start reads\n",
    "            pbar.update(handle.tell())\n",
    "            \n",
    "            while handle.tell() < upload_size:\n",
    "                #Calculate remaining bytes\n",
    "                remaining_bytes = upload_size - handle.tell()\n",
    "\n",
    "                #If it is the last chunk, finalize the upload\n",
    "                if remaining_bytes <= constants.DROPBOX_CHUNK_SIZE:\n",
    "                    dropbox.files_upload_session_finish(\n",
    "                                    handle.read(remaining_bytes),\n",
    "                                    cursor,\n",
    "                                    commit)\n",
    "\n",
    "                    #Update progress\n",
    "                    pbar.update(remaining_bytes)\n",
    "                #More than chunk size remaining to upload\n",
    "                else:\n",
    "                    dropbox.files_upload_session_append_v2(\n",
    "                                        handle.read(constants.DROPBOX_CHUNK_SIZE),\n",
    "                                        cursor)\n",
    "\n",
    "                    #Update the cursor\n",
    "                    cursor.offset = handle.tell()\n",
    "\n",
    "                    #Update the progress\n",
    "                    pbar.update(constants.DROPBOX_CHUNK_SIZE)"
   ]
  },
  {
   "cell_type": "code",
   "execution_count": 39,
   "metadata": {},
   "outputs": [
    {
     "name": "stdout",
     "output_type": "stream",
     "text": [
      "/run_data/test_1/siamese_network.log\n"
     ]
    },
    {
     "name": "stderr",
     "output_type": "stream",
     "text": [
      "\r",
      "Uploading file: /run_data/test_1/siamese_network.log size: 61195:   0%|                      | 0/61195 [00:00<?, ?it/s]"
     ]
    },
    {
     "name": "stdout",
     "output_type": "stream",
     "text": [
      "progress: 2000\n"
     ]
    },
    {
     "name": "stderr",
     "output_type": "stream",
     "text": [
      "\r",
      "Uploading file: /run_data/test_1/siamese_network.log size: 61195:   7%|▌        | 4000/61195 [00:00<00:10, 5616.76it/s]"
     ]
    },
    {
     "name": "stdout",
     "output_type": "stream",
     "text": [
      "progress: 2000\n"
     ]
    },
    {
     "name": "stderr",
     "output_type": "stream",
     "text": [
      "\r",
      "Uploading file: /run_data/test_1/siamese_network.log size: 61195:  10%|▉        | 6000/61195 [00:01<00:13, 4103.36it/s]"
     ]
    },
    {
     "name": "stdout",
     "output_type": "stream",
     "text": [
      "progress: 2000\n"
     ]
    },
    {
     "name": "stderr",
     "output_type": "stream",
     "text": [
      "\r",
      "Uploading file: /run_data/test_1/siamese_network.log size: 61195:  13%|█▏       | 8000/61195 [00:02<00:15, 3510.09it/s]"
     ]
    },
    {
     "name": "stdout",
     "output_type": "stream",
     "text": [
      "progress: 2000\n"
     ]
    },
    {
     "name": "stderr",
     "output_type": "stream",
     "text": [
      "\r",
      "Uploading file: /run_data/test_1/siamese_network.log size: 61195:  16%|█▎      | 10000/61195 [00:03<00:19, 2662.94it/s]"
     ]
    },
    {
     "name": "stdout",
     "output_type": "stream",
     "text": [
      "progress: 2000\n"
     ]
    },
    {
     "name": "stderr",
     "output_type": "stream",
     "text": [
      "\r",
      "Uploading file: /run_data/test_1/siamese_network.log size: 61195:  20%|█▌      | 12000/61195 [00:04<00:22, 2224.11it/s]"
     ]
    },
    {
     "name": "stdout",
     "output_type": "stream",
     "text": [
      "progress: 2000\n"
     ]
    },
    {
     "name": "stderr",
     "output_type": "stream",
     "text": [
      "\r",
      "Uploading file: /run_data/test_1/siamese_network.log size: 61195:  23%|█▊      | 14000/61195 [00:05<00:22, 2128.11it/s]"
     ]
    },
    {
     "name": "stdout",
     "output_type": "stream",
     "text": [
      "progress: 2000\n"
     ]
    },
    {
     "name": "stderr",
     "output_type": "stream",
     "text": [
      "\r",
      "Uploading file: /run_data/test_1/siamese_network.log size: 61195:  26%|██      | 16000/61195 [00:07<00:25, 1764.87it/s]"
     ]
    },
    {
     "name": "stdout",
     "output_type": "stream",
     "text": [
      "progress: 2000\n"
     ]
    },
    {
     "name": "stderr",
     "output_type": "stream",
     "text": [
      "\r",
      "Uploading file: /run_data/test_1/siamese_network.log size: 61195:  29%|██▎     | 18000/61195 [00:08<00:25, 1685.13it/s]"
     ]
    },
    {
     "name": "stdout",
     "output_type": "stream",
     "text": [
      "progress: 2000\n"
     ]
    },
    {
     "name": "stderr",
     "output_type": "stream",
     "text": [
      "\r",
      "Uploading file: /run_data/test_1/siamese_network.log size: 61195:  33%|██▌     | 20000/61195 [00:09<00:20, 1975.11it/s]"
     ]
    },
    {
     "name": "stdout",
     "output_type": "stream",
     "text": [
      "progress: 2000\n"
     ]
    },
    {
     "name": "stderr",
     "output_type": "stream",
     "text": [
      "\r",
      "Uploading file: /run_data/test_1/siamese_network.log size: 61195:  36%|██▉     | 22000/61195 [00:10<00:20, 1953.82it/s]"
     ]
    },
    {
     "name": "stdout",
     "output_type": "stream",
     "text": [
      "progress: 2000\n"
     ]
    },
    {
     "name": "stderr",
     "output_type": "stream",
     "text": [
      "\r",
      "Uploading file: /run_data/test_1/siamese_network.log size: 61195:  39%|███▏    | 24000/61195 [00:11<00:17, 2134.63it/s]"
     ]
    },
    {
     "name": "stdout",
     "output_type": "stream",
     "text": [
      "progress: 2000\n"
     ]
    },
    {
     "name": "stderr",
     "output_type": "stream",
     "text": [
      "\r",
      "Uploading file: /run_data/test_1/siamese_network.log size: 61195:  42%|███▍    | 26000/61195 [00:11<00:16, 2127.09it/s]"
     ]
    },
    {
     "name": "stdout",
     "output_type": "stream",
     "text": [
      "progress: 2000\n"
     ]
    },
    {
     "name": "stderr",
     "output_type": "stream",
     "text": [
      "\r",
      "Uploading file: /run_data/test_1/siamese_network.log size: 61195:  46%|███▋    | 28000/61195 [00:13<00:16, 2009.30it/s]"
     ]
    },
    {
     "name": "stdout",
     "output_type": "stream",
     "text": [
      "progress: 2000\n"
     ]
    },
    {
     "name": "stderr",
     "output_type": "stream",
     "text": [
      "\r",
      "Uploading file: /run_data/test_1/siamese_network.log size: 61195:  49%|███▉    | 30000/61195 [00:13<00:13, 2281.11it/s]"
     ]
    },
    {
     "name": "stdout",
     "output_type": "stream",
     "text": [
      "progress: 2000\n"
     ]
    },
    {
     "name": "stderr",
     "output_type": "stream",
     "text": [
      "\r",
      "Uploading file: /run_data/test_1/siamese_network.log size: 61195:  52%|████▏   | 32000/61195 [00:14<00:12, 2374.35it/s]"
     ]
    },
    {
     "name": "stdout",
     "output_type": "stream",
     "text": [
      "progress: 2000\n"
     ]
    },
    {
     "name": "stderr",
     "output_type": "stream",
     "text": [
      "\r",
      "Uploading file: /run_data/test_1/siamese_network.log size: 61195:  56%|████▍   | 34000/61195 [00:15<00:11, 2307.25it/s]"
     ]
    },
    {
     "name": "stdout",
     "output_type": "stream",
     "text": [
      "progress: 2000\n"
     ]
    },
    {
     "name": "stderr",
     "output_type": "stream",
     "text": [
      "\r",
      "Uploading file: /run_data/test_1/siamese_network.log size: 61195:  59%|████▋   | 36000/61195 [00:16<00:13, 1887.05it/s]"
     ]
    },
    {
     "name": "stdout",
     "output_type": "stream",
     "text": [
      "progress: 2000\n"
     ]
    },
    {
     "name": "stderr",
     "output_type": "stream",
     "text": [
      "\r",
      "Uploading file: /run_data/test_1/siamese_network.log size: 61195:  62%|████▉   | 38000/61195 [00:17<00:11, 2059.67it/s]"
     ]
    },
    {
     "name": "stdout",
     "output_type": "stream",
     "text": [
      "progress: 2000\n"
     ]
    },
    {
     "name": "stderr",
     "output_type": "stream",
     "text": [
      "\r",
      "Uploading file: /run_data/test_1/siamese_network.log size: 61195:  65%|█████▏  | 40000/61195 [00:18<00:09, 2180.99it/s]"
     ]
    },
    {
     "name": "stdout",
     "output_type": "stream",
     "text": [
      "progress: 2000\n"
     ]
    },
    {
     "name": "stderr",
     "output_type": "stream",
     "text": [
      "\r",
      "Uploading file: /run_data/test_1/siamese_network.log size: 61195:  69%|█████▍  | 42000/61195 [00:19<00:08, 2349.21it/s]"
     ]
    },
    {
     "name": "stdout",
     "output_type": "stream",
     "text": [
      "progress: 2000\n"
     ]
    },
    {
     "name": "stderr",
     "output_type": "stream",
     "text": [
      "\r",
      "Uploading file: /run_data/test_1/siamese_network.log size: 61195:  72%|█████▊  | 44000/61195 [00:19<00:07, 2437.07it/s]"
     ]
    },
    {
     "name": "stdout",
     "output_type": "stream",
     "text": [
      "progress: 2000\n"
     ]
    },
    {
     "name": "stderr",
     "output_type": "stream",
     "text": [
      "\r",
      "Uploading file: /run_data/test_1/siamese_network.log size: 61195:  75%|██████  | 46000/61195 [00:20<00:06, 2280.99it/s]"
     ]
    },
    {
     "name": "stdout",
     "output_type": "stream",
     "text": [
      "progress: 2000\n"
     ]
    },
    {
     "name": "stderr",
     "output_type": "stream",
     "text": [
      "\r",
      "Uploading file: /run_data/test_1/siamese_network.log size: 61195:  78%|██████▎ | 48000/61195 [00:21<00:05, 2240.22it/s]"
     ]
    },
    {
     "name": "stdout",
     "output_type": "stream",
     "text": [
      "progress: 2000\n"
     ]
    },
    {
     "name": "stderr",
     "output_type": "stream",
     "text": [
      "\r",
      "Uploading file: /run_data/test_1/siamese_network.log size: 61195:  82%|██████▌ | 50000/61195 [00:23<00:05, 1915.96it/s]"
     ]
    },
    {
     "name": "stdout",
     "output_type": "stream",
     "text": [
      "progress: 2000\n"
     ]
    },
    {
     "name": "stderr",
     "output_type": "stream",
     "text": [
      "\r",
      "Uploading file: /run_data/test_1/siamese_network.log size: 61195:  85%|██████▊ | 52000/61195 [00:23<00:04, 2086.89it/s]"
     ]
    },
    {
     "name": "stdout",
     "output_type": "stream",
     "text": [
      "progress: 2000\n"
     ]
    },
    {
     "name": "stderr",
     "output_type": "stream",
     "text": [
      "\r",
      "Uploading file: /run_data/test_1/siamese_network.log size: 61195:  88%|███████ | 54000/61195 [00:25<00:04, 1724.04it/s]"
     ]
    },
    {
     "name": "stdout",
     "output_type": "stream",
     "text": [
      "progress: 2000\n"
     ]
    },
    {
     "name": "stderr",
     "output_type": "stream",
     "text": [
      "\r",
      "Uploading file: /run_data/test_1/siamese_network.log size: 61195:  92%|███████▎| 56000/61195 [00:26<00:03, 1685.22it/s]"
     ]
    },
    {
     "name": "stdout",
     "output_type": "stream",
     "text": [
      "progress: 2000\n"
     ]
    },
    {
     "name": "stderr",
     "output_type": "stream",
     "text": [
      "\r",
      "Uploading file: /run_data/test_1/siamese_network.log size: 61195:  95%|███████▌| 58000/61195 [00:27<00:01, 1717.31it/s]"
     ]
    },
    {
     "name": "stdout",
     "output_type": "stream",
     "text": [
      "progress: 2000\n"
     ]
    },
    {
     "name": "stderr",
     "output_type": "stream",
     "text": [
      "\r",
      "Uploading file: /run_data/test_1/siamese_network.log size: 61195:  98%|███████▊| 60000/61195 [00:28<00:00, 1937.74it/s]"
     ]
    },
    {
     "name": "stdout",
     "output_type": "stream",
     "text": [
      "remaining: 1195\n"
     ]
    },
    {
     "name": "stderr",
     "output_type": "stream",
     "text": [
      "Uploading file: /run_data/test_1/siamese_network.log size: 61195: 100%|████████| 61195/61195 [00:30<00:00, 1069.65it/s]\n"
     ]
    }
   ],
   "source": [
    "dropbox_dir = path.join(constants.DROPBOX_APP_PATH_PREFIX, 'test_1')\n",
    "\n",
    "_upload(dropbox_dir, 'siamese_network.log')"
   ]
  },
  {
   "cell_type": "code",
   "execution_count": null,
   "metadata": {},
   "outputs": [],
   "source": [
    "#Get current working directory\n",
    "from os import getcwd\n",
    "\n",
    "#Unittests\n",
    "import unittest as ut\n",
    "\n",
    "#Local imports\n",
    "from model_utils import load_pretrained_model\n",
    "from visualization import HistoryInsights\n",
    "from visualization import ModelInsights\n",
    "from visualization import WeightInsights\n",
    "from visualization import PlottingUtils\n",
    "from common import ut_constants\n",
    "\n",
    "#Keras\n",
    "from keras import backend as K\n",
    "\n",
    "model_name = \"cnn_model2d_1\"\n",
    "store = ut_constants.DATA_STORE\n",
    "\n",
    "model, _ = load_pretrained_model(model_name, store)\n",
    "model_insights = ModelInsights(model)\n",
    "\n",
    "#Disable training\n",
    "K.set_learning_phase(0)\n"
   ]
  },
  {
   "cell_type": "code",
   "execution_count": null,
   "metadata": {},
   "outputs": [],
   "source": [
    "from common import constants\n",
    "from utils import load_images\n",
    "\n",
    "import numpy as np\n",
    "\n",
    "r_count = 5\n",
    "source_loc = constants.PROCESSED_DATASET_MAPPINGS['train']\n",
    "images = load_images(source_loc, r_count)\n",
    "images = np.asarray(images)\n",
    "images = np.expand_dims(images, axis = -1)\n",
    "\n",
    "print(images.shape)\n",
    "\n"
   ]
  },
  {
   "cell_type": "code",
   "execution_count": null,
   "metadata": {},
   "outputs": [],
   "source": [
    "inputs = [model.layers[0].input]\n",
    "outputs = [model.get_layer('conv2d_1').output]\n",
    "\n",
    "get_activations = K.function(inputs, outputs)\n",
    "activations = get_activations([images])"
   ]
  },
  {
   "cell_type": "code",
   "execution_count": null,
   "metadata": {
    "scrolled": true
   },
   "outputs": [],
   "source": [
    "from matplotlib import pyplot as plt\n",
    "from visualization import PlottingUtils as putils\n",
    "from math import sqrt\n",
    "\n",
    "for image_id in range(r_count):\n",
    "    plt.figure()\n",
    "    image_act = activations[0][image_id, :, :, :]\n",
    "    n_filters = image_act.shape[-1]\n",
    "\n",
    "    cols = int(sqrt(n_filters))\n",
    "    rows = int((n_filters + cols - 1)/cols)\n",
    "\n",
    "    image = images[image_id, :, :, :]\n",
    "    image = np.reshape(image, (image.shape[0], image.shape[1]))\n",
    "    plt.imshow(image, cmap = plt.get_cmap('gray'))\n",
    "    figure, axes = plt.subplots(rows, cols, figsize = (12, 12))\n",
    "\n",
    "    print(rows, cols, n_filters)\n",
    "\n",
    "    for fid in range(n_filters):\n",
    "        location = putils.get_plot_axes((rows, cols), fid)\n",
    "        image = np.asarray(image_act[:, :, fid])\n",
    "        axes[location].imshow(image, aspect='auto')\n",
    "\n",
    "    figure.tight_layout()\n",
    "    figure.savefig(\"image_{}.png\".format(image_id), dpi=100)"
   ]
  },
  {
   "cell_type": "code",
   "execution_count": null,
   "metadata": {},
   "outputs": [],
   "source": []
  },
  {
   "cell_type": "code",
   "execution_count": null,
   "metadata": {},
   "outputs": [],
   "source": [
    "from common import constants\n",
    "from utils import load_images\n",
    "from image.operations import Operations\n",
    "\n",
    "import numpy as np\n",
    "import cv2\n",
    "from matplotlib import pyplot as plt\n",
    "\n",
    "#Keras visualizations\n",
    "from keract import get_activations\n",
    "\n",
    "#Unittests\n",
    "import unittest as ut\n",
    "\n",
    "#Local imports\n",
    "from model_utils import load_pretrained_model\n",
    "from common import ut_constants\n",
    "from visualization import ModelInsights\n",
    "\n",
    "r_count = 100\n",
    "source_loc = constants.PROCESSED_DATASET_MAPPINGS['train']\n",
    "images = load_images(source_loc, r_count)\n",
    "\n",
    "model_name = \"cnn_model2d_1\"\n",
    "store = ut_constants.DATA_STORE\n",
    "model, _ = load_pretrained_model(model_name, store)\n",
    "\n",
    "insights = ModelInsights(model)\n",
    "\n",
    "model.summary()\n",
    "\n",
    "\n",
    "\n",
    "\n"
   ]
  },
  {
   "cell_type": "code",
   "execution_count": null,
   "metadata": {
    "scrolled": true
   },
   "outputs": [],
   "source": [
    "from keras.applications import VGG16\n",
    "from vis.utils import utils\n",
    "from keras import activations\n",
    "from vis.visualization.saliency import visualize_cam\n",
    "\n",
    "from matplotlib import pyplot as plt\n",
    "from matplotlib import cm\n",
    "\n",
    "from PIL import Image\n",
    "\n",
    "import numpy as np\n",
    "\n",
    "def get_layer_id(model, layer_name):\n",
    "    for l_idx, layer in enumerate(model.layers):\n",
    "        if layer.name == layer_name:\n",
    "            return l_idx\n",
    "    \n",
    "    return None\n",
    "\n",
    "l_idx = get_layer_id(model, 'conv2d_3')\n",
    "figure, axes = plt.subplots(len(images), 2, figsize = (len(images), len(images)))\n",
    "\n",
    "def change_contrast(img, level):\n",
    "    factor = (259 * (level + 255)) / (255 * (259 - level))\n",
    "    def contrast(c):\n",
    "        return 128 + factor * (c - 128)\n",
    "    return img.point(contrast)\n",
    "\n",
    "for row, image in enumerate(images):\n",
    "    img = np.expand_dims(image, axis = -1)\n",
    "\n",
    "    # Utility to search for layer index by name. \n",
    "    # Alternatively we can specify this as -1 since it corresponds to the last layer.\n",
    "    new_img = visualize_cam(model, l_idx, None, img)\n",
    "\n",
    "    \n",
    "    axes[row, 0].imshow(image, cmap = plt.get_cmap('gray'))\n",
    "    axes[row, 1].imshow(new_img, cmap = plt.get_cmap('gray'))\n",
    "\n",
    "figure.tight_layout()\n",
    "\n"
   ]
  },
  {
   "cell_type": "code",
   "execution_count": null,
   "metadata": {},
   "outputs": [],
   "source": []
  },
  {
   "cell_type": "code",
   "execution_count": null,
   "metadata": {
    "scrolled": true
   },
   "outputs": [],
   "source": []
  },
  {
   "cell_type": "code",
   "execution_count": null,
   "metadata": {},
   "outputs": [],
   "source": []
  },
  {
   "cell_type": "code",
   "execution_count": null,
   "metadata": {},
   "outputs": [],
   "source": []
  },
  {
   "cell_type": "code",
   "execution_count": null,
   "metadata": {},
   "outputs": [],
   "source": []
  },
  {
   "cell_type": "code",
   "execution_count": null,
   "metadata": {
    "scrolled": true
   },
   "outputs": [],
   "source": []
  },
  {
   "cell_type": "code",
   "execution_count": null,
   "metadata": {},
   "outputs": [],
   "source": []
  },
  {
   "cell_type": "code",
   "execution_count": null,
   "metadata": {},
   "outputs": [],
   "source": []
  },
  {
   "cell_type": "code",
   "execution_count": null,
   "metadata": {},
   "outputs": [],
   "source": []
  },
  {
   "cell_type": "code",
   "execution_count": null,
   "metadata": {},
   "outputs": [],
   "source": [
    "#Scratch\n",
    "#img = imread(locate_train_img(\"0000e88ab.jpg\"))"
   ]
  },
  {
   "cell_type": "code",
   "execution_count": null,
   "metadata": {},
   "outputs": [],
   "source": [
    "print(X_TRAIN.shape)"
   ]
  },
  {
   "cell_type": "code",
   "execution_count": null,
   "metadata": {},
   "outputs": [],
   "source": []
  }
 ],
 "metadata": {
  "kernelspec": {
   "display_name": "Python 3",
   "language": "python",
   "name": "python3"
  },
  "language_info": {
   "codemirror_mode": {
    "name": "ipython",
    "version": 3
   },
   "file_extension": ".py",
   "mimetype": "text/x-python",
   "name": "python",
   "nbconvert_exporter": "python",
   "pygments_lexer": "ipython3",
   "version": "3.6.6"
  }
 },
 "nbformat": 4,
 "nbformat_minor": 2
}
