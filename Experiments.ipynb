{
 "cells": [
  {
   "cell_type": "code",
   "execution_count": 3,
   "metadata": {},
   "outputs": [
    {
     "name": "stdout",
     "output_type": "stream",
     "text": [
      "(3, 400, 700)\n",
      "(3, 5005)\n"
     ]
    }
   ],
   "source": [
    "#Basic imports\n",
    "from sys import argv, stdout\n",
    "\n",
    "#To save training data\n",
    "from pickle import dump as pickle_dump\n",
    "\n",
    "#Data adjustment\n",
    "import numpy as np\n",
    "\n",
    "#Local imports\n",
    "from common import constants\n",
    "from models import cnn_gray_model_1\n",
    "from model_utils import get_input_labels, get_label_ids, model_fit, load_training_batch, load_training\n",
    "from utils import list_files\n",
    "\n",
    "batch_size = 2\n",
    "n_images = 3\n",
    "n_epochs = 30\n",
    "o_model = \"model_1\"\n",
    "l_rate = 0.001\n",
    "\n",
    "dataset = \"train\"\n",
    "validation_split = 0.2\n",
    "input_shape = constants.IMG_SHAPE\n",
    "source_loc = constants.PROCESSED_DATASET_MAPPINGS[dataset]\n",
    "\n",
    "input_labels = get_input_labels()\n",
    "label_ids = get_label_ids()\n",
    "n_classes = len(label_ids)\n",
    "input_set = list_files(source_loc, n_images)\n",
    "\n",
    "x, y = load_training(source_loc, input_set, input_labels, label_ids)\n",
    "\n",
    "print(x.shape)\n",
    "print(y.shape)\n",
    "\n"
   ]
  },
  {
   "cell_type": "code",
   "execution_count": null,
   "metadata": {},
   "outputs": [],
   "source": [
    "\n",
    "import tensorflow as tf\n",
    "\n",
    "def make_image(tensor):\n",
    "    \"\"\"\n",
    "    Convert an numpy representation image to Image protobuf.\n",
    "    Copied from https://github.com/lanpa/tensorboard-pytorch/\n",
    "    \"\"\"\n",
    "    from PIL import Image\n",
    "    height, width, channel = tensor.shape\n",
    "    image = Image.fromarray(tensor)\n",
    "    import io\n",
    "    output = io.BytesIO()\n",
    "    image.save(output, format='PNG')\n",
    "    image_string = output.getvalue()\n",
    "    output.close()\n",
    "    return tf.Summary.Image(height=height,\n",
    "                         width=width,\n",
    "                         colorspace=channel,\n",
    "                         encoded_image_string=image_string)\n",
    "\n",
    "class TensorBoardImage(keras.callbacks.Callback):\n",
    "    def __init__(self, tag):\n",
    "        super().__init__() \n",
    "        self.tag = tag\n",
    "\n",
    "    def on_epoch_end(self, epoch, logs={}):\n",
    "        # Load image\n",
    "        img = data.astronaut()\n",
    "        # Do something to the image\n",
    "        img = (255 * skimage.util.random_noise(img)).astype('uint8')\n",
    "\n",
    "        image = make_image(img)\n",
    "        summary = tf.Summary(value=[tf.Summary.Value(tag=self.tag, image=image)])\n",
    "        writer = tf.summary.FileWriter('./logs')\n",
    "        writer.add_summary(summary, epoch)\n",
    "        writer.close()"
   ]
  },
  {
   "cell_type": "code",
   "execution_count": null,
   "metadata": {},
   "outputs": [],
   "source": [
    "\n",
    "#Command line parameters\n",
    "from sys import argv\n",
    "\n",
    "#Load training history\n",
    "from pickle import load as pickle_load\n",
    "\n",
    "#Load keras model\n",
    "from keras.models import load_model\n",
    "\n",
    "%matplotlib inline\n",
    "\n",
    "model_name = \"cnn_gray_model_1\"\n",
    "history_file = \"{model_name}.hist\".format(model_name = model_name)\n",
    "model_file = \"{model_name}.h5\".format(model_name = model_name)\n",
    "\n",
    "print(\"Using model: {model_file} history: {history_file}\".format(model_file = model_file, history_file = history_file))\n",
    "\n",
    "model = load_model(model_file)\n",
    "\n",
    "history = None\n",
    "with open(history_file, 'rb') as handle:\n",
    "    history = pickle_load(handle)"
   ]
  },
  {
   "cell_type": "code",
   "execution_count": null,
   "metadata": {},
   "outputs": [],
   "source": []
  },
  {
   "cell_type": "code",
   "execution_count": null,
   "metadata": {
    "scrolled": true
   },
   "outputs": [],
   "source": [
    "from visualization import HistoryInsights\n",
    "\n",
    "insights = HistoryInsights(history)\n",
    "insights.accuracy()\n",
    "insights.loss()"
   ]
  },
  {
   "cell_type": "code",
   "execution_count": 53,
   "metadata": {},
   "outputs": [],
   "source": [
    "model_name = \"model_1\"\n",
    "history_file = \"{model_name}.hist\".format(model_name = model_name)\n",
    "model_file = \"{model_name}.h5\".format(model_name = model_name)\n",
    "from keras.models import load_model\n",
    "model = load_model(model_file)"
   ]
  },
  {
   "cell_type": "code",
   "execution_count": 52,
   "metadata": {
    "scrolled": true
   },
   "outputs": [
    {
     "name": "stdout",
     "output_type": "stream",
     "text": [
      "Layers: 12\n",
      "\n",
      "Names and shapes.\n",
      "(conv1d_1, (None, 400, 700))\n",
      "(conv1d_2, (None, 398, 32))\n",
      "(max_pooling1d_1, (None, 396, 32))\n",
      "(dropout_1, (None, 198, 32))\n",
      "(conv1d_3, (None, 198, 32))\n",
      "(conv1d_4, (None, 196, 64))\n",
      "(max_pooling1d_2, (None, 194, 64))\n",
      "(dropout_2, (None, 97, 64))\n",
      "(flatten_1, (None, 97, 64))\n",
      "(dense_1, (None, 6208))\n",
      "(dropout_3, (None, 256))\n",
      "(dense_2, (None, 256))\n",
      "\n",
      "Names and weights.\n",
      "(3, 700, 32)\n"
     ]
    },
    {
     "ename": "IndexError",
     "evalue": "index 8 is out of bounds for axis 0 with size 3",
     "output_type": "error",
     "traceback": [
      "\u001b[1;31m---------------------------------------------------------------------------\u001b[0m",
      "\u001b[1;31mIndexError\u001b[0m                                Traceback (most recent call last)",
      "\u001b[1;32m<ipython-input-52-39fc7d0917b5>\u001b[0m in \u001b[0;36m<module>\u001b[1;34m()\u001b[0m\n\u001b[0;32m     27\u001b[0m \u001b[1;33m\u001b[0m\u001b[0m\n\u001b[0;32m     28\u001b[0m \u001b[0msummary\u001b[0m \u001b[1;33m=\u001b[0m \u001b[0mModelCnnSummary\u001b[0m\u001b[1;33m(\u001b[0m\u001b[0mmodel\u001b[0m\u001b[1;33m)\u001b[0m\u001b[1;33m\u001b[0m\u001b[0m\n\u001b[1;32m---> 29\u001b[1;33m \u001b[0msummary\u001b[0m\u001b[1;33m.\u001b[0m\u001b[0msummary\u001b[0m\u001b[1;33m(\u001b[0m\u001b[1;33m)\u001b[0m\u001b[1;33m\u001b[0m\u001b[0m\n\u001b[0m",
      "\u001b[1;32m<ipython-input-52-39fc7d0917b5>\u001b[0m in \u001b[0;36msummary\u001b[1;34m(self)\u001b[0m\n\u001b[0;32m     24\u001b[0m                 \u001b[0mprint\u001b[0m\u001b[1;33m(\u001b[0m\u001b[0mweights\u001b[0m\u001b[1;33m.\u001b[0m\u001b[0mshape\u001b[0m\u001b[1;33m)\u001b[0m\u001b[1;33m\u001b[0m\u001b[0m\n\u001b[0;32m     25\u001b[0m                 \u001b[0mplt\u001b[0m\u001b[1;33m.\u001b[0m\u001b[0mfigure\u001b[0m\u001b[1;33m(\u001b[0m\u001b[1;33m)\u001b[0m\u001b[1;33m\u001b[0m\u001b[0m\n\u001b[1;32m---> 26\u001b[1;33m                 \u001b[0mplt\u001b[0m\u001b[1;33m.\u001b[0m\u001b[0mimshow\u001b[0m\u001b[1;33m(\u001b[0m\u001b[0mweights\u001b[0m\u001b[1;33m[\u001b[0m\u001b[1;36m8\u001b[0m\u001b[1;33m,\u001b[0m\u001b[1;33m:\u001b[0m\u001b[1;33m,\u001b[0m \u001b[1;33m:\u001b[0m\u001b[1;33m]\u001b[0m\u001b[1;33m)\u001b[0m\u001b[1;33m\u001b[0m\u001b[0m\n\u001b[0m\u001b[0;32m     27\u001b[0m \u001b[1;33m\u001b[0m\u001b[0m\n\u001b[0;32m     28\u001b[0m \u001b[0msummary\u001b[0m \u001b[1;33m=\u001b[0m \u001b[0mModelCnnSummary\u001b[0m\u001b[1;33m(\u001b[0m\u001b[0mmodel\u001b[0m\u001b[1;33m)\u001b[0m\u001b[1;33m\u001b[0m\u001b[0m\n",
      "\u001b[1;31mIndexError\u001b[0m: index 8 is out of bounds for axis 0 with size 3"
     ]
    },
    {
     "data": {
      "text/plain": [
       "<Figure size 432x288 with 0 Axes>"
      ]
     },
     "metadata": {},
     "output_type": "display_data"
    }
   ],
   "source": [
    "from matplotlib import pyplot as plt\n",
    "\n",
    "class ModelCnnSummary:\n",
    "    _visual_layer_prefix = 'conv'\n",
    "    \n",
    "    def __init__(self, model):\n",
    "        self._model = model\n",
    "\n",
    "    def summary(self):\n",
    "        #Useful objects\n",
    "        model = self._model\n",
    "        layers = model.layers\n",
    "\n",
    "        print(\"Layers: {}\".format(len(layers)))\n",
    "        \n",
    "        print(\"\\nNames and shapes.\")\n",
    "        for layer in layers:\n",
    "            print(\"({}, {})\".format(layer.name, layer.input_shape))\n",
    "        \n",
    "        print(\"\\nNames and weights.\")\n",
    "        for layer in layers:\n",
    "            if layer.name.startswith(self._visual_layer_prefix):\n",
    "                weights = layer.get_weights()[0]\n",
    "                print(weights.shape)\n",
    "                plt.figure()\n",
    "                plt.imshow(weights[8,:, :])\n",
    "        \n",
    "summary = ModelCnnSummary(model)\n",
    "summary.summary()"
   ]
  },
  {
   "cell_type": "code",
   "execution_count": null,
   "metadata": {},
   "outputs": [],
   "source": []
  },
  {
   "cell_type": "code",
   "execution_count": null,
   "metadata": {},
   "outputs": [],
   "source": []
  },
  {
   "cell_type": "code",
   "execution_count": null,
   "metadata": {},
   "outputs": [],
   "source": []
  },
  {
   "cell_type": "code",
   "execution_count": null,
   "metadata": {
    "scrolled": true
   },
   "outputs": [],
   "source": []
  },
  {
   "cell_type": "code",
   "execution_count": null,
   "metadata": {},
   "outputs": [],
   "source": []
  },
  {
   "cell_type": "code",
   "execution_count": null,
   "metadata": {},
   "outputs": [],
   "source": [
    "### Create the model ###\n",
    "model = Sequential()\n",
    "\n",
    "input_shape = IMG_SIZE\n",
    "\n",
    "model.add(MaxPool2D((5, 5), (2, 2), 'valid', input_shape=input_shape))\n",
    "\n",
    "model.add(Conv2D(128, kernel_size=3, padding='same', activation='relu'))\n",
    "model.add(MaxPool2D((5, 5), (2, 2), 'valid'))\n",
    "\n",
    "model.add(Conv2D(64, kernel_size=3, activation='relu'))\n",
    "model.add(MaxPool2D((5, 5), (2, 2), 'valid'))\n",
    "\n",
    "model.add(Conv2D(32, kernel_size=3, activation='relu'))\n",
    "model.add(MaxPool2D((5, 5), (2, 2), 'valid'))\n",
    "\n",
    "model.add(Conv2D(8, kernel_size=3, activation='relu'))\n",
    "model.add(MaxPool2D((5, 5), (2, 2), 'valid'))\n",
    "\n",
    "model.add(Conv2D(4, kernel_size=3, activation='relu'))\n",
    "model.add(MaxPool2D((5, 5), (2, 2), 'valid'))\n",
    "\n",
    "model.add(Flatten())\n",
    "model.add(Dense(NUM_CLASSES))\n",
    "model.add(Activation('softmax'))\n",
    "\n",
    "#Compile the model\n",
    "model.compile(optimizer='adam', loss='categorical_crossentropy', metrics=['accuracy'])\n",
    "\n",
    "#Print model summary\n",
    "print(model.summary())\n",
    "\n",
    "#Train the model\n",
    "files = list(LABEL_DICT.keys())[:5096]\n",
    "batch_size = 16\n",
    "model.fit_generator(\n",
    "    load_model_data(TRAIN_SET_LOC, files, 16, CLASS_NAME_MAP, LABEL_DICT, NUM_CLASSES),\n",
    "    epochs = 20, \n",
    "    steps_per_epoch = len(files)/batch_size + 1, \n",
    "    use_multiprocessing = True)\n",
    "\"\"\"\n",
    "for files in batch(list(LABEL_DICT.keys()), 256):\n",
    "    x, y = load_image_set(TRAIN_SET_LOC, files, CLASS_NAME_MAP, LABEL_DICT, NUM_CLASSES)\n",
    "    model.fit(x, y, batch_size = 16, validation_split = 0.2, epochs=3)\n",
    "\"\"\"\n",
    "\n",
    "#VG(model_to_dot(model).create(prog='dot', format='s"
   ]
  },
  {
   "cell_type": "code",
   "execution_count": null,
   "metadata": {},
   "outputs": [],
   "source": []
  },
  {
   "cell_type": "code",
   "execution_count": null,
   "metadata": {},
   "outputs": [],
   "source": [
    "#Scratch\n",
    "#img = imread(locate_train_img(\"0000e88ab.jpg\"))"
   ]
  },
  {
   "cell_type": "code",
   "execution_count": null,
   "metadata": {},
   "outputs": [],
   "source": [
    "print(X_TRAIN.shape)"
   ]
  },
  {
   "cell_type": "code",
   "execution_count": null,
   "metadata": {},
   "outputs": [],
   "source": []
  }
 ],
 "metadata": {
  "kernelspec": {
   "display_name": "Python 3",
   "language": "python",
   "name": "python3"
  },
  "language_info": {
   "codemirror_mode": {
    "name": "ipython",
    "version": 3
   },
   "file_extension": ".py",
   "mimetype": "text/x-python",
   "name": "python",
   "nbconvert_exporter": "python",
   "pygments_lexer": "ipython3",
   "version": "3.6.6"
  }
 },
 "nbformat": 4,
 "nbformat_minor": 2
}
